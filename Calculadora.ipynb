{
  "nbformat": 4,
  "nbformat_minor": 0,
  "metadata": {
    "colab": {
      "name": "Calculadora.ipynb",
      "provenance": []
    },
    "kernelspec": {
      "name": "python3",
      "display_name": "Python 3"
    }
  },
  "cells": [
    {
      "cell_type": "code",
      "metadata": {
        "id": "EY9aDjg7QgHH"
      },
      "source": [
        "print(\"\\n******************* Python Calculator *******************\")\r\n",
        "\r\n",
        "def add(x,y):\r\n",
        "  return x + y \r\n",
        "\r\n",
        "def subtrack(x,y):\r\n",
        "  return x - y\r\n",
        "\r\n",
        "def multiply(x,y):\r\n",
        "  return x * y \r\n",
        "\r\n",
        "def divide(x,y):\r\n",
        "  return x / y \r\n",
        "\r\n",
        "print(\"\\nSelecione o número da operação desejada: \\n\")\r\n",
        "print(\"1 - Soma\")\r\n",
        "print(\"2 - Subtração\")\r\n",
        "print(\"3 - Multiplicação\")\r\n",
        "print(\"4 - Divisão\")\r\n",
        "\r\n",
        "escolha = input(\"\\nDigite sua operação (1/2/3/4): \")\r\n",
        "\r\n",
        "num1 = int(input(\"\\nDigite o primeiro número: \"))\r\n",
        "num2 = int(input(\"\\nDigite o segundo número: \"))\r\n",
        "\r\n",
        "\r\n",
        "if escolha == '1':\r\n",
        "  print(\"\\n\")\r\n",
        "  print(num1, \"+\", num2, \"=\", add(num1, num2))\r\n",
        "  print(\"\\n\")\r\n",
        "\r\n",
        "elif escolha == '2':\r\n",
        "  print(\"\\n\")\r\n",
        "  print(num1, \"-\", num2, \"=\", subtrack(num1, num2))\r\n",
        "  print(\"\\n\")\r\n",
        "\r\n",
        "elif escolha == '3':\r\n",
        "  print(\"\\n\")\r\n",
        "  print(num1, \"*\", num2, \"=\", multiply(num1, num2))\r\n",
        "  print(\"\\n\")\r\n",
        "\r\n",
        "elif escolha == '4':\r\n",
        "  print(\"\\n\")\r\n",
        "  print(num1, \"/\", num2, \"=\", divide(num1, num2))\r\n",
        "  print(\"\\n\")\r\n",
        "\r\n",
        "else:\r\n",
        "  print(\"\\nOperação Inválida!\")\r\n",
        "\r\n",
        "\r\n",
        "\r\n"
      ],
      "execution_count": null,
      "outputs": []
    }
  ]
}